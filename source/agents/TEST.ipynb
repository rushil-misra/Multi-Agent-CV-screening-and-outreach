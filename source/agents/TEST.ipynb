{
 "cells": [
  {
   "cell_type": "code",
   "execution_count": 2,
   "id": "f8b993a6",
   "metadata": {},
   "outputs": [],
   "source": [
    "import chromadb\n",
    "\n",
    "client = chromadb.PersistentClient(path=\"../testing\")\n",
    "\n",
    "\n",
    "collection = client.get_or_create_collection(name=\"Task\")"
   ]
  },
  {
   "cell_type": "code",
   "execution_count": 3,
   "id": "f9cca5f9",
   "metadata": {},
   "outputs": [
    {
     "data": {
      "text/plain": [
       "{'ids': ['Aditi Sharma',\n",
       "  'Rohan Mehta',\n",
       "  'Sneha Patel',\n",
       "  'Vikram Singh',\n",
       "  'Neha Kapoor'],\n",
       " 'embeddings': None,\n",
       " 'documents': [\"{'name': 'Aditi Sharma', 'experience': 'Software Engineer : 3 years', 'education': 'Delhi University: B.Tech Computer Science', 'location': 'Delhi', 'skills': ['Python', 'Django', 'REST APIs', 'SQL', 'Git'], 'email': 'aditi.sharma@example.com'}\",\n",
       "  \"{'name': 'Rohan Mehta', 'experience': 'Data Analyst : 2.5 years', 'education': 'IIT Bombay: B.Tech Electrical Engineering', 'location': 'Maharashtra', 'skills': ['Excel', 'Power BI', 'Python', 'Pandas', 'SQL'], 'email': 'rohan.mehta@example.com'}\",\n",
       "  \"{'name': 'Sneha Patel', 'experience': 'HR Manager : 5 years', 'education': 'Symbiosis University: MBA Human Resources', 'location': 'Gujarat', 'skills': ['Recruitment', 'Onboarding', 'Communication', 'Payroll'], 'email': 'sneha.patel@example.com'}\",\n",
       "  \"{'name': 'Vikram Singh', 'experience': 'Project Manager : 7 years', 'education': 'BITS Pilani: B.E. Mechanical Engineering', 'location': 'Rajasthan', 'skills': ['Agile', 'Scrum', 'Leadership', 'MS Project', 'JIRA'], 'email': 'vikram.singh@example.com'}\",\n",
       "  \"{'name': 'Neha Kapoor', 'experience': 'UX Designer : 4 years', 'education': 'NIFT Delhi: B.Des Communication Design', 'location': 'Karnataka', 'skills': ['Figma', 'Adobe XD', 'User Research', 'Wireframing', 'Prototyping'], 'email': 'neha.kapoor@example.com'}\"],\n",
       " 'uris': None,\n",
       " 'included': ['metadatas', 'documents'],\n",
       " 'data': None,\n",
       " 'metadatas': [{'email': 'aditi.sharma@example.com', 'status': 'valid'},\n",
       "  {'status': 'valid', 'email': 'rohan.mehta@example.com'},\n",
       "  {'status': 'valid', 'email': 'sneha.patel@example.com'},\n",
       "  {'email': 'vikram.singh@example.com', 'status': 'valid'},\n",
       "  {'status': 'valid', 'email': 'neha.kapoor@example.com'}]}"
      ]
     },
     "execution_count": 3,
     "metadata": {},
     "output_type": "execute_result"
    }
   ],
   "source": [
    "collection.get()"
   ]
  },
  {
   "cell_type": "code",
   "execution_count": 4,
   "id": "450e5537",
   "metadata": {},
   "outputs": [],
   "source": [
    "candidates = [\n",
    "    {\n",
    "        \"name\": \"Aditi Sharma\",\n",
    "        \"experience\": \"Software Engineer : 3 years\",\n",
    "        \"education\": \"Delhi University: B.Tech Computer Science\",\n",
    "        \"location\": \"Delhi\",\n",
    "        \"skills\": [\"Python\", \"Django\", \"REST APIs\", \"SQL\", \"Git\"],\n",
    "        \"email\": \"aditi.sharma@example.com\"\n",
    "    },\n",
    "    {\n",
    "        \"name\": \"Rohan Mehta\",\n",
    "        \"experience\": \"Data Analyst : 2.5 years\",\n",
    "        \"education\": \"IIT Bombay: B.Tech Electrical Engineering\",\n",
    "        \"location\": \"Maharashtra\",\n",
    "        \"skills\": [\"Excel\", \"Power BI\", \"Python\", \"Pandas\", \"SQL\"],\n",
    "        \"email\": \"rohan.mehta@example.com\"\n",
    "    },\n",
    "    {\n",
    "        \"name\": \"Sneha Patel\",\n",
    "        \"experience\": \"HR Manager : 5 years\",\n",
    "        \"education\": \"Symbiosis University: MBA Human Resources\",\n",
    "        \"location\": \"Gujarat\",\n",
    "        \"skills\": [\"Recruitment\", \"Onboarding\", \"Communication\", \"Payroll\"],\n",
    "        \"email\": \"sneha.patel@example.com\"\n",
    "    },\n",
    "    {\n",
    "        \"name\": \"Vikram Singh\",\n",
    "        \"experience\": \"Project Manager : 7 years\",\n",
    "        \"education\": \"BITS Pilani: B.E. Mechanical Engineering\",\n",
    "        \"location\": \"Rajasthan\",\n",
    "        \"skills\": [\"Agile\", \"Scrum\", \"Leadership\", \"MS Project\", \"JIRA\"],\n",
    "        \"email\": \"vikram.singh@example.com\"\n",
    "    },\n",
    "    {\n",
    "        \"name\": \"Neha Kapoor\",\n",
    "        \"experience\": \"UX Designer : 4 years\",\n",
    "        \"education\": \"NIFT Delhi: B.Des Communication Design\",\n",
    "        \"location\": \"Karnataka\",\n",
    "        \"skills\": [\"Figma\", \"Adobe XD\", \"User Research\", \"Wireframing\", \"Prototyping\"],\n",
    "        \"email\": \"neha.kapoor@example.com\"\n",
    "    }\n",
    "]\n"
   ]
  },
  {
   "cell_type": "code",
   "execution_count": 5,
   "id": "18e9ee8f",
   "metadata": {},
   "outputs": [
    {
     "name": "stdout",
     "output_type": "stream",
     "text": [
      "aditi.sharma@example.com\n",
      "rohan.mehta@example.com\n",
      "sneha.patel@example.com\n",
      "vikram.singh@example.com\n",
      "neha.kapoor@example.com\n"
     ]
    }
   ],
   "source": [
    "for i,candidate in enumerate(candidates):\n",
    "    print(candidate['email'])"
   ]
  },
  {
   "cell_type": "code",
   "execution_count": 6,
   "id": "16c6b718",
   "metadata": {},
   "outputs": [],
   "source": [
    "for i,candidate in enumerate(candidates):\n",
    "\tcollection.add(\n",
    "\tdocuments=[str(candidate)],\n",
    "\tmetadatas=[{\"status\": \"valid\",\n",
    "\t\t\t\t\t\t\t\t\t\t\t\t\t\"email\" :candidate['email'] }],\n",
    "\tids=[candidate['name']]\n",
    "\t)"
   ]
  },
  {
   "cell_type": "code",
   "execution_count": 7,
   "id": "93986d83",
   "metadata": {},
   "outputs": [
    {
     "data": {
      "text/plain": [
       "{'ids': ['Aditi Sharma',\n",
       "  'Rohan Mehta',\n",
       "  'Sneha Patel',\n",
       "  'Vikram Singh',\n",
       "  'Neha Kapoor'],\n",
       " 'embeddings': None,\n",
       " 'documents': [\"{'name': 'Aditi Sharma', 'experience': 'Software Engineer : 3 years', 'education': 'Delhi University: B.Tech Computer Science', 'location': 'Delhi', 'skills': ['Python', 'Django', 'REST APIs', 'SQL', 'Git'], 'email': 'aditi.sharma@example.com'}\",\n",
       "  \"{'name': 'Rohan Mehta', 'experience': 'Data Analyst : 2.5 years', 'education': 'IIT Bombay: B.Tech Electrical Engineering', 'location': 'Maharashtra', 'skills': ['Excel', 'Power BI', 'Python', 'Pandas', 'SQL'], 'email': 'rohan.mehta@example.com'}\",\n",
       "  \"{'name': 'Sneha Patel', 'experience': 'HR Manager : 5 years', 'education': 'Symbiosis University: MBA Human Resources', 'location': 'Gujarat', 'skills': ['Recruitment', 'Onboarding', 'Communication', 'Payroll'], 'email': 'sneha.patel@example.com'}\",\n",
       "  \"{'name': 'Vikram Singh', 'experience': 'Project Manager : 7 years', 'education': 'BITS Pilani: B.E. Mechanical Engineering', 'location': 'Rajasthan', 'skills': ['Agile', 'Scrum', 'Leadership', 'MS Project', 'JIRA'], 'email': 'vikram.singh@example.com'}\",\n",
       "  \"{'name': 'Neha Kapoor', 'experience': 'UX Designer : 4 years', 'education': 'NIFT Delhi: B.Des Communication Design', 'location': 'Karnataka', 'skills': ['Figma', 'Adobe XD', 'User Research', 'Wireframing', 'Prototyping'], 'email': 'neha.kapoor@example.com'}\"],\n",
       " 'uris': None,\n",
       " 'included': ['metadatas', 'documents'],\n",
       " 'data': None,\n",
       " 'metadatas': [{'email': 'aditi.sharma@example.com', 'status': 'valid'},\n",
       "  {'email': 'rohan.mehta@example.com', 'status': 'valid'},\n",
       "  {'email': 'sneha.patel@example.com', 'status': 'valid'},\n",
       "  {'status': 'valid', 'email': 'vikram.singh@example.com'},\n",
       "  {'status': 'valid', 'email': 'neha.kapoor@example.com'}]}"
      ]
     },
     "execution_count": 7,
     "metadata": {},
     "output_type": "execute_result"
    }
   ],
   "source": [
    "collection.get()"
   ]
  },
  {
   "cell_type": "code",
   "execution_count": 8,
   "id": "cef57520",
   "metadata": {},
   "outputs": [
    {
     "data": {
      "text/plain": [
       "{'ids': [['Vikram Singh', 'Neha Kapoor', 'Sneha Patel']],\n",
       " 'embeddings': None,\n",
       " 'documents': [[\"{'name': 'Vikram Singh', 'experience': 'Project Manager : 7 years', 'education': 'BITS Pilani: B.E. Mechanical Engineering', 'location': 'Rajasthan', 'skills': ['Agile', 'Scrum', 'Leadership', 'MS Project', 'JIRA'], 'email': 'vikram.singh@example.com'}\",\n",
       "   \"{'name': 'Neha Kapoor', 'experience': 'UX Designer : 4 years', 'education': 'NIFT Delhi: B.Des Communication Design', 'location': 'Karnataka', 'skills': ['Figma', 'Adobe XD', 'User Research', 'Wireframing', 'Prototyping'], 'email': 'neha.kapoor@example.com'}\",\n",
       "   \"{'name': 'Sneha Patel', 'experience': 'HR Manager : 5 years', 'education': 'Symbiosis University: MBA Human Resources', 'location': 'Gujarat', 'skills': ['Recruitment', 'Onboarding', 'Communication', 'Payroll'], 'email': 'sneha.patel@example.com'}\"]],\n",
       " 'uris': None,\n",
       " 'included': ['metadatas', 'documents', 'distances'],\n",
       " 'data': None,\n",
       " 'metadatas': [[{'email': 'vikram.singh@example.com', 'status': 'valid'},\n",
       "   {'email': 'neha.kapoor@example.com', 'status': 'valid'},\n",
       "   {'status': 'valid', 'email': 'sneha.patel@example.com'}]],\n",
       " 'distances': [[1.0239617824554443, 1.3145962953567505, 1.3597095012664795]]}"
      ]
     },
     "execution_count": 8,
     "metadata": {},
     "output_type": "execute_result"
    }
   ],
   "source": [
    "collection.query(\n",
    "    query_texts=[\"project manager with mechanical engineering background\"],\n",
    "    n_results=3,\n",
    ")"
   ]
  },
  {
   "cell_type": "code",
   "execution_count": 12,
   "id": "4a27ea25",
   "metadata": {},
   "outputs": [],
   "source": [
    "res = collection.get()"
   ]
  },
  {
   "cell_type": "code",
   "execution_count": 14,
   "id": "54a13da4",
   "metadata": {},
   "outputs": [
    {
     "data": {
      "text/plain": [
       "'Aditi Sharma'"
      ]
     },
     "execution_count": 14,
     "metadata": {},
     "output_type": "execute_result"
    }
   ],
   "source": [
    "res['ids'][0]"
   ]
  },
  {
   "cell_type": "code",
   "execution_count": null,
   "id": "11fdb088",
   "metadata": {},
   "outputs": [],
   "source": []
  }
 ],
 "metadata": {
  "kernelspec": {
   "display_name": "myenv",
   "language": "python",
   "name": "python3"
  },
  "language_info": {
   "codemirror_mode": {
    "name": "ipython",
    "version": 3
   },
   "file_extension": ".py",
   "mimetype": "text/x-python",
   "name": "python",
   "nbconvert_exporter": "python",
   "pygments_lexer": "ipython3",
   "version": "3.12.8"
  }
 },
 "nbformat": 4,
 "nbformat_minor": 5
}
