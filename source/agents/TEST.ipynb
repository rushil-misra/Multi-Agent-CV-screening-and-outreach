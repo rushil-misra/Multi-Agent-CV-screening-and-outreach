{
 "cells": [
  {
   "cell_type": "code",
   "execution_count": 1,
   "id": "f8b993a6",
   "metadata": {},
   "outputs": [],
   "source": [
    "import chromadb\n",
    "\n",
    "client = chromadb.PersistentClient(path=\"../Candidate_Database2\")\n",
    "\n",
    "\n",
    "collection = client.get_or_create_collection(name=\"Task\")"
   ]
  },
  {
   "cell_type": "code",
   "execution_count": 2,
   "id": "f9cca5f9",
   "metadata": {},
   "outputs": [
    {
     "data": {
      "text/plain": [
       "{'ids': ['Akshay Bajaj Resume.pdf',\n",
       "  'C:\\\\Users\\\\Rushil Misra\\\\Documents\\\\projects\\\\Sanskar\\\\Task_1\\\\agents\\\\Candidate Resumes\\\\iimjobs_Sudeep_Ojha (2).docx',\n",
       "  'Naukri_ABHISHEKCHAUHAN[8y_0m] (3).pdf',\n",
       "  'Naukri_AMITKUMARRANA[12y_0m] (1).pdf',\n",
       "  'Naukri_KapildevGYadav[8y_0m].docx'],\n",
       " 'embeddings': None,\n",
       " 'documents': ['Akshay Bajaj',\n",
       "  'C:\\\\Users\\\\Rushil Misra\\\\Documents\\\\projects\\\\Sanskar\\\\Task_1\\\\agents\\\\Candidate Resumes\\\\iimjobs_Sudeep_Ojha (2).docx',\n",
       "  'ABHISHEK CHAUHAN',\n",
       "  'AMIT KUMAR RANA',\n",
       "  'Kapildev Yadav'],\n",
       " 'uris': None,\n",
       " 'included': ['metadatas', 'documents'],\n",
       " 'data': None,\n",
       " 'metadatas': [{'status': 'valid'},\n",
       "  {'status': 'corrupt'},\n",
       "  {'status': 'valid'},\n",
       "  {'status': 'valid'},\n",
       "  {'status': 'valid'}]}"
      ]
     },
     "execution_count": 2,
     "metadata": {},
     "output_type": "execute_result"
    }
   ],
   "source": [
    "collection.get()"
   ]
  },
  {
   "cell_type": "code",
   "execution_count": 5,
   "id": "450e5537",
   "metadata": {},
   "outputs": [
    {
     "data": {
      "text/plain": [
       "'\\\\\\\\iimjobs_Sudeep_Ojha (2).doc'"
      ]
     },
     "execution_count": 5,
     "metadata": {},
     "output_type": "execute_result"
    }
   ],
   "source": [
    "sent = r'C:\\\\Users\\\\Rushil Misra\\\\Documents\\\\projects\\\\Sanskar\\\\Task_1\\\\agents\\\\Candidate Resumes\\\\iimjobs_Sudeep_Ojha (2).docx'\n",
    "\n",
    "sent[-30:-1]"
   ]
  },
  {
   "cell_type": "code",
   "execution_count": null,
   "id": "16c6b718",
   "metadata": {},
   "outputs": [],
   "source": []
  }
 ],
 "metadata": {
  "kernelspec": {
   "display_name": "myenv",
   "language": "python",
   "name": "python3"
  },
  "language_info": {
   "codemirror_mode": {
    "name": "ipython",
    "version": 3
   },
   "file_extension": ".py",
   "mimetype": "text/x-python",
   "name": "python",
   "nbconvert_exporter": "python",
   "pygments_lexer": "ipython3",
   "version": "3.12.8"
  }
 },
 "nbformat": 4,
 "nbformat_minor": 5
}
